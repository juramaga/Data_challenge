{
 "cells": [
  {
   "cell_type": "code",
   "execution_count": 92,
   "metadata": {
    "collapsed": false
   },
   "outputs": [
    {
     "name": "stdout",
     "output_type": "stream",
     "text": [
      "Populating the interactive namespace from numpy and matplotlib\n"
     ]
    }
   ],
   "source": [
    "%pylab inline\n",
    "\n",
    "import numpy as np\n",
    "import matplotlib.pyplot as plt\n",
    "import scipy\n",
    "import pickle"
   ]
  },
  {
   "cell_type": "code",
   "execution_count": 93,
   "metadata": {
    "collapsed": true
   },
   "outputs": [],
   "source": [
    "# Define a function the creates the registers given the stream of numbers and N\n",
    "def registers(stream,N):\n",
    "    \n",
    "    stream_ascending = np.sort(stream)\n",
    "    stream_descending = stream_ascending[::-1]\n",
    "    max_register = stream_descending[:N]\n",
    "    last_register = stream[-N:]\n",
    "    \n",
    "    return max_register,last_register"
   ]
  },
  {
   "cell_type": "code",
   "execution_count": 94,
   "metadata": {
    "collapsed": true
   },
   "outputs": [],
   "source": [
    "# Define a function to calculate the products of the registers\n",
    "def calc_products(stream,N):\n",
    "    \n",
    "    max_reg,last_reg = registers(stream,N)\n",
    "    M = prod(max_reg)\n",
    "    L = prod(last_reg)\n",
    "    products = np.array([M,L])\n",
    "    \n",
    "    return products"
   ]
  },
  {
   "cell_type": "code",
   "execution_count": 95,
   "metadata": {
    "collapsed": false
   },
   "outputs": [
    {
     "name": "stdout",
     "output_type": "stream",
     "text": [
      "The mean of M-L is:  7893.54199367\n",
      "The standard deviation of M-L is:  1591.12705849\n"
     ]
    }
   ],
   "source": [
    "# I am asked about means and standard deviations. My interpretation is:\n",
    "# what the distribution of the products are after many random streams of \n",
    "# T numbers is read?\n",
    "\n",
    "# Lets do it for a number of N_samples:\n",
    "N_samples = 3000000\n",
    "\n",
    "diffs = []   # Array to store the values of M in each realization\n",
    "\n",
    "for i in arange(N_samples):\n",
    "    T = 32\n",
    "    N = 4\n",
    "    str1 = random.randint(1,11,T)\n",
    "    prods = calc_products(str1,N)  # Each realisation will produce this array with [M, L]\n",
    "    difference = prods[0] - prods[1]  # The difference of M and L\n",
    "    diffs.append(difference)\n",
    "    \n",
    "np.set_printoptions(precision=8)\n",
    "\n",
    "print \"The mean of M-L is: \",mean(diffs)\n",
    "print \"The standard deviation of M-L is: \",std(diffs)"
   ]
  },
  {
   "cell_type": "code",
   "execution_count": 96,
   "metadata": {
    "collapsed": false
   },
   "outputs": [
    {
     "name": "stdout",
     "output_type": "stream",
     "text": [
      "The conditional probability P((M−L)≥a|(M−L)≤b) for the given values is: 0.873015647428\n"
     ]
    }
   ],
   "source": [
    "# Conditional probailities.\n",
    "# The histogram of diffs gives the probability distribution for M-L\n",
    "\n",
    "a = 2048\n",
    "b = 4096\n",
    "\n",
    "diffs = np.array(diffs)\n",
    "P = diffs[diffs <= b]  # Impose the condition\n",
    "\n",
    "# The conditional probability is obtained as the number of times numbers larger or equal than a\n",
    "# appear in the new distribution called P, divided by the length of P\n",
    "\n",
    "P_cond = float(len(P[P>=a]))/float(len(P))\n",
    "\n",
    "print \"The conditional probability P((M−L)≥a|(M−L)≤b) for the given values is:\",P_cond\n"
   ]
  },
  {
   "cell_type": "code",
   "execution_count": null,
   "metadata": {
    "collapsed": true
   },
   "outputs": [],
   "source": []
  }
 ],
 "metadata": {
  "kernelspec": {
   "display_name": "Python 2",
   "language": "python",
   "name": "python2"
  },
  "language_info": {
   "codemirror_mode": {
    "name": "ipython",
    "version": 2
   },
   "file_extension": ".py",
   "mimetype": "text/x-python",
   "name": "python",
   "nbconvert_exporter": "python",
   "pygments_lexer": "ipython2",
   "version": "2.7.11"
  }
 },
 "nbformat": 4,
 "nbformat_minor": 0
}
