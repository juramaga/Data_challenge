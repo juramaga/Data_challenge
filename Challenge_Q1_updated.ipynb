{
 "cells": [
  {
   "cell_type": "code",
   "execution_count": 216,
   "metadata": {
    "collapsed": false
   },
   "outputs": [
    {
     "name": "stdout",
     "output_type": "stream",
     "text": [
      "Populating the interactive namespace from numpy and matplotlib\n"
     ]
    }
   ],
   "source": [
    "%pylab inline\n",
    "\n",
    "import numpy as np\n",
    "import matplotlib.pyplot as plt\n",
    "import scipy\n",
    "import pickle"
   ]
  },
  {
   "cell_type": "code",
   "execution_count": 217,
   "metadata": {
    "collapsed": true
   },
   "outputs": [],
   "source": [
    "np.set_printoptions(precision=10) # Set precision\n",
    "\n",
    "# Define a function with allowed ending positions given current position\n",
    "\n",
    "def allowed(current):\n",
    "    return {\n",
    "        0: [4,6],\n",
    "        1: [6,8],\n",
    "        2: [7,9],\n",
    "        3: [4,8],\n",
    "        4: [0,3,9],\n",
    "        5: [],\n",
    "        6: [0,1,7],\n",
    "        7: [2,6],\n",
    "        8: [1,3],\n",
    "        9: [2,4],\n",
    "    }[current]"
   ]
  },
  {
   "cell_type": "code",
   "execution_count": 218,
   "metadata": {
    "collapsed": false
   },
   "outputs": [],
   "source": [
    "# Define a function that starting at 0, randomly moves T times as a knight\n",
    "\n",
    "def moves(T,starting=0):\n",
    "    cnts = 0\n",
    "    current = starting\n",
    "    sum_track = 0\n",
    "    while cnts < T:\n",
    "        #print 'current: ', current\n",
    "        new_position = random.choice(allowed(current),1)\n",
    "        #print 'new: ', new_position\n",
    "        sum_track += new_position[0]\n",
    "        current = new_position[0]\n",
    "        cnts += 1\n",
    "    return sum_track\n",
    "    "
   ]
  },
  {
   "cell_type": "code",
   "execution_count": 219,
   "metadata": {
    "collapsed": false
   },
   "outputs": [
    {
     "data": {
      "text/plain": [
       "(array([   10.,    90.,   414.,  1341.,  2512.,  2847.,  1875.,   743.,\n",
       "          154.,    14.]),\n",
       " array([ 238. ,  290.4,  342.8,  395.2,  447.6,  500. ,  552.4,  604.8,\n",
       "         657.2,  709.6,  762. ]),\n",
       " <a list of 10 Patch objects>)"
      ]
     },
     "execution_count": 219,
     "metadata": {},
     "output_type": "execute_result"
    },
    {
     "data": {
      "image/png": "[encoded data removed]",
      "text/plain": [
       "<matplotlib.figure.Figure at 0x10739f350>"
      ]
     },
     "metadata": {},
     "output_type": "display_data"
    }
   ],
   "source": [
    "# Now run this many times and get the distribution of the sum\n",
    "\n",
    "T = 1024 # Number of moves\n",
    "n_samples = 10000   # Number of realisations\n",
    "mod_value = 1024\n",
    "\n",
    "distr_sum = []\n",
    "for i in arange(n_samples):\n",
    "    distr_sum.append(moves(T))\n",
    "    \n",
    "modulo = np.array(mod(distr_sum,mod_value))   # This array contains the distribution of results under the modulo operation (10)\n",
    "    \n",
    "plt.hist(modulo)"
   ]
  },
  {
   "cell_type": "code",
   "execution_count": 220,
   "metadata": {
    "collapsed": false
   },
   "outputs": [
    {
     "name": "stdout",
     "output_type": "stream",
     "text": [
      "The expected value is:  510.5803\n",
      "The standard deviation value is:  70.415695352\n"
     ]
    }
   ],
   "source": [
    "# In this case the expected value equals the mean of the distribution\n",
    "# (in general, however, it equals the sum of the product of each sampled value\n",
    "# times its probability of occuring).\n",
    "\n",
    "np.set_printoptions(precision=10)\n",
    "print \"The expected value is: \", mean(modulo)\n",
    "\n",
    "# And standard deviation\n",
    "print \"The standard deviation value is: \", std(modulo)\n",
    "    "
   ]
  },
  {
   "cell_type": "code",
   "execution_count": 221,
   "metadata": {
    "collapsed": false
   },
   "outputs": [
    {
     "name": "stdout",
     "output_type": "stream",
     "text": [
      "[False False False ..., False False False]\n",
      "After T=1024 moves, the probability that the sum S is divisible by 23, given that it is divisible by 29 is:  0.10985915493\n"
     ]
    }
   ],
   "source": [
    "# Conditional probabilities\n",
    "\n",
    "distr_sum = np.array(distr_sum)\n",
    "\n",
    "# Impose the condition that sum is divisble by 29:\n",
    "mod_value = 29\n",
    "print np.array(mod(distr_sum,mod_value)) == 0\n",
    "P = distr_sum[np.array(mod(distr_sum,mod_value)) == 0]\n",
    "P = np.array(P)\n",
    "\n",
    "# The conditional probability is obtained as the number of elements of the new\n",
    "# conditioned distribution called P that are divisible by 23, diveded by the size of P.\n",
    "\n",
    "P_cond = float(len(P[np.array(mod(P,23)) == 0]))/float(len(P))\n",
    "\n",
    "print \"After T=1024 moves, the probability that the sum S is divisible by 23, given that it is divisible by 29 is: \", P_cond"
   ]
  },
  {
   "cell_type": "code",
   "execution_count": null,
   "metadata": {
    "collapsed": true
   },
   "outputs": [],
   "source": []
  }
 ],
 "metadata": {
  "kernelspec": {
   "display_name": "Python 2",
   "language": "python",
   "name": "python2"
  },
  "language_info": {
   "codemirror_mode": {
    "name": "ipython",
    "version": 2
   },
   "file_extension": ".py",
   "mimetype": "text/x-python",
   "name": "python",
   "nbconvert_exporter": "python",
   "pygments_lexer": "ipython2",
   "version": "2.7.11"
  }
 },
 "nbformat": 4,
 "nbformat_minor": 0
}
